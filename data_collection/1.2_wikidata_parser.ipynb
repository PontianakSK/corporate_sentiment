{
 "cells": [
  {
   "cell_type": "code",
   "execution_count": 3,
   "metadata": {},
   "outputs": [],
   "source": [
    "import pandas as pd\n",
    "import logging\n",
    "from Utils.async_wiki import async_check_companies"
   ]
  },
  {
   "cell_type": "code",
   "execution_count": 2,
   "metadata": {},
   "outputs": [],
   "source": [
    "orgs = pd.read_csv('csvs/orgs_ibm_checked.csv')"
   ]
  },
  {
   "cell_type": "code",
   "execution_count": 3,
   "metadata": {},
   "outputs": [],
   "source": [
    "uniq_orgs = orgs['organization'].unique()"
   ]
  },
  {
   "cell_type": "code",
   "execution_count": 4,
   "metadata": {},
   "outputs": [],
   "source": [
    "from time import time\n",
    "import csv"
   ]
  },
  {
   "cell_type": "code",
   "execution_count": 6,
   "metadata": {},
   "outputs": [],
   "source": [
    "OUTPUT_FILE = 'wikidata_cleaned.csv'"
   ]
  },
  {
   "cell_type": "code",
   "execution_count": 7,
   "metadata": {},
   "outputs": [],
   "source": [
    "def reset_org_file():\n",
    "    with open(OUTPUT_FILE, 'w', encoding='utf8') as wiki_file:\n",
    "        writer = csv.DictWriter(wiki_file, fieldnames=['name', 'label','is_company'])\n",
    "        writer.writeheader()"
   ]
  },
  {
   "cell_type": "code",
   "execution_count": 11,
   "metadata": {},
   "outputs": [],
   "source": [
    "#reset_org_file()"
   ]
  },
  {
   "cell_type": "code",
   "execution_count": 8,
   "metadata": {},
   "outputs": [],
   "source": [
    "def write_orgs(orgs):\n",
    "    with open(OUTPUT_FILE,'a',encoding='utf8') as orgs_file:\n",
    "        field_names = ['name', 'label','is_company']\n",
    "        writer = csv.DictWriter(orgs_file,fieldnames=field_names)\n",
    "        for org_name, org_params in parsed_orgs.items():\n",
    "            if org_params:\n",
    "                to_write = {\n",
    "                    'name': org_name,\n",
    "                    'label':org_params[0]['label'],\n",
    "                    'is_company': org_params[0]['is_company'],\n",
    "                } \n",
    "                \n",
    "            else:\n",
    "                to_write = {\n",
    "                    'name': org_name,\n",
    "                    'label':None,\n",
    "                    'is_company': False,\n",
    "                } \n",
    "            \n",
    "            writer.writerow(to_write)"
   ]
  },
  {
   "cell_type": "code",
   "execution_count": 9,
   "metadata": {},
   "outputs": [],
   "source": [
    "logging.basicConfig(level=logging.INFO)"
   ]
  },
  {
   "cell_type": "code",
   "execution_count": 13,
   "metadata": {},
   "outputs": [
    {
     "name": "stderr",
     "output_type": "stream",
     "text": [
      "INFO:root:New batch (0:300) started\n"
     ]
    },
    {
     "name": "stdout",
     "output_type": "stream",
     "text": [
      "Wiki Progress: [============================================================] 100.0%% ...\r"
     ]
    },
    {
     "name": "stderr",
     "output_type": "stream",
     "text": [
      "INFO:root:300 of 3000 processed\n",
      "Batch time: 3.7318038940429688 s\n",
      "Total time: 3.733423948287964 s\n",
      "\n",
      "INFO:root:New batch (300:600) started\n"
     ]
    },
    {
     "name": "stdout",
     "output_type": "stream",
     "text": [
      "\n",
      "\n",
      "Wiki Progress: [============================================================] 100.0%% ...\r"
     ]
    },
    {
     "name": "stderr",
     "output_type": "stream",
     "text": [
      "INFO:root:600 of 3000 processed\n",
      "Batch time: 3.477337121963501 s\n",
      "Total time: 7.212873220443726 s\n",
      "\n",
      "INFO:root:New batch (600:900) started\n"
     ]
    },
    {
     "name": "stdout",
     "output_type": "stream",
     "text": [
      "\n",
      "\n",
      "Wiki Progress: [============================================================] 100.0%% ...\r"
     ]
    },
    {
     "name": "stderr",
     "output_type": "stream",
     "text": [
      "INFO:root:900 of 3000 processed\n",
      "Batch time: 2.726851224899292 s\n",
      "Total time: 9.941595077514648 s\n",
      "\n",
      "INFO:root:New batch (900:1200) started\n"
     ]
    },
    {
     "name": "stdout",
     "output_type": "stream",
     "text": [
      "\n",
      "\n",
      "Wiki Progress: [============================================================] 100.0%% ...\r"
     ]
    },
    {
     "name": "stderr",
     "output_type": "stream",
     "text": [
      "INFO:root:1200 of 3000 processed\n",
      "Batch time: 3.5614356994628906 s\n",
      "Total time: 13.504846334457397 s\n",
      "\n",
      "INFO:root:New batch (1200:1500) started\n"
     ]
    },
    {
     "name": "stdout",
     "output_type": "stream",
     "text": [
      "\n",
      "\n",
      "Wiki Progress: [============================================================] 100.0%% ...\r"
     ]
    },
    {
     "name": "stderr",
     "output_type": "stream",
     "text": [
      "INFO:root:1500 of 3000 processed\n",
      "Batch time: 3.4268367290496826 s\n",
      "Total time: 16.934219121932983 s\n",
      "\n",
      "INFO:root:New batch (1500:1800) started\n"
     ]
    },
    {
     "name": "stdout",
     "output_type": "stream",
     "text": [
      "\n",
      "\n",
      "Wiki Progress: [==============================------------------------------] 50.0%% ...\r"
     ]
    },
    {
     "name": "stderr",
     "output_type": "stream",
     "text": [
      "ERROR:root:High level exception\n",
      "Traceback (most recent call last):\n",
      "  File \"/home/pontianak/data/OneDrive/Study/lp_tmp/corporate_sentiment/data/async_wiki.py\", line 187, in async_check_companies\n",
      "    batch_result = await asyncio.gather(*tasks)\n",
      "  File \"/home/pontianak/data/OneDrive/Study/lp_tmp/corporate_sentiment/data/async_wiki.py\", line 148, in async_check_company\n",
      "    entities_json = await async_get_entity(session,entities_codes)\n",
      "  File \"/home/pontianak/data/OneDrive/Study/lp_tmp/corporate_sentiment/data/async_wiki.py\", line 128, in async_get_entity\n",
      "    data = await response.json()\n",
      "  File \"/home/pontianak/.local/lib/python3.8/site-packages/aiohttp/client_reqrep.py\", line 1026, in json\n",
      "    raise ContentTypeError(\n",
      "aiohttp.client_exceptions.ContentTypeError: 0, message='Attempt to decode JSON with unexpected mimetype: text/html; charset=utf-8', url=URL('https://www.wikidata.org/w/api.php?action=wbgetentities&sites=enwiki&languages=en&format=json&ids=Q30284052&props=labels%7Cclaims')\n"
     ]
    },
    {
     "name": "stdout",
     "output_type": "stream",
     "text": [
      "Wiki Progress: [============================================================] 100.0%% ...\r"
     ]
    },
    {
     "name": "stderr",
     "output_type": "stream",
     "text": [
      "INFO:root:1800 of 3000 processed\n",
      "Batch time: 14.88580870628357 s\n",
      "Total time: 31.8224835395813 s\n",
      "\n",
      "INFO:root:New batch (1800:2100) started\n"
     ]
    },
    {
     "name": "stdout",
     "output_type": "stream",
     "text": [
      "\n",
      "\n",
      "Wiki Progress: [============================================================] 100.0%% ...\r"
     ]
    },
    {
     "name": "stderr",
     "output_type": "stream",
     "text": [
      "INFO:root:2100 of 3000 processed\n",
      "Batch time: 2.6369616985321045 s\n",
      "Total time: 34.462566614151 s\n",
      "\n",
      "INFO:root:New batch (2100:2400) started\n"
     ]
    },
    {
     "name": "stdout",
     "output_type": "stream",
     "text": [
      "\n",
      "\n",
      "Wiki Progress: [============================================================] 100.0%% ...\r"
     ]
    },
    {
     "name": "stderr",
     "output_type": "stream",
     "text": [
      "INFO:root:2400 of 3000 processed\n",
      "Batch time: 2.9876582622528076 s\n",
      "Total time: 37.45221829414368 s\n",
      "\n",
      "INFO:root:New batch (2400:2700) started\n"
     ]
    },
    {
     "name": "stdout",
     "output_type": "stream",
     "text": [
      "\n",
      "\n",
      "Wiki Progress: [============================================================] 100.0%% ...\r"
     ]
    },
    {
     "name": "stderr",
     "output_type": "stream",
     "text": [
      "INFO:root:2700 of 3000 processed\n",
      "Batch time: 3.0141549110412598 s\n",
      "Total time: 40.46780037879944 s\n",
      "\n",
      "INFO:root:New batch (2700:3000) started\n"
     ]
    },
    {
     "name": "stdout",
     "output_type": "stream",
     "text": [
      "\n",
      "\n",
      "Wiki Progress: [============================================================] 100.0%% ...\r"
     ]
    },
    {
     "name": "stderr",
     "output_type": "stream",
     "text": [
      "INFO:root:3000 of 3000 processed\n",
      "Batch time: 2.6795105934143066 s\n",
      "Total time: 43.149012327194214 s\n",
      "\n"
     ]
    },
    {
     "name": "stdout",
     "output_type": "stream",
     "text": [
      "\n",
      "\n"
     ]
    }
   ],
   "source": [
    "done_orgs = pd.read_csv(OUTPUT_FILE)\n",
    "done_org_names = set(done_orgs['name'].unique())\n",
    "orgs_to_check = [org for org in uniq_orgs if org not in done_org_names]\n",
    "\n",
    "total = len(orgs_to_check)\n",
    "step = min(300, total)\n",
    "start = time()\n",
    "for i in range(0,total,step):\n",
    "    logging.info(f'New batch ({i}:{i+step}) started')\n",
    "    parsed_orgs = dict()\n",
    "    batch_start = time()\n",
    "    batch = orgs_to_check[i:i+step]\n",
    "    result = await async_check_companies(batch, 150)\n",
    "    for index,name in enumerate(batch):\n",
    "        parsed_orgs[name] = result[index]\n",
    "    write_orgs(parsed_orgs)\n",
    "    logging.info(\n",
    "        f'{i+step} of {total} processed\\n'\n",
    "        f'Batch time: {time()-batch_start} s\\n'\n",
    "        f'Total time: {time()-start} s\\n'\n",
    "    )"
   ]
  },
  {
   "cell_type": "code",
   "execution_count": 3,
   "metadata": {},
   "outputs": [],
   "source": [
    "cleaned_orgs = pd.read_csv(OUTPUT_FILE)"
   ]
  },
  {
   "cell_type": "code",
   "execution_count": 4,
   "metadata": {},
   "outputs": [],
   "source": [
    "true_orgs = cleaned_orgs[cleaned_orgs['is_company']].copy()"
   ]
  },
  {
   "cell_type": "code",
   "execution_count": 31,
   "metadata": {},
   "outputs": [],
   "source": [
    "orgs = orgs.join(true_orgs.set_index('name'),on='organization', how='left')"
   ]
  },
  {
   "cell_type": "code",
   "execution_count": 33,
   "metadata": {},
   "outputs": [],
   "source": [
    "orgs.dropna(subset=['is_company'],inplace=True)"
   ]
  },
  {
   "cell_type": "code",
   "execution_count": 40,
   "metadata": {},
   "outputs": [],
   "source": [
    "count_org_in_doc = orgs.groupby(by='uuid').agg({'organization': 'count'})"
   ]
  },
  {
   "cell_type": "code",
   "execution_count": 44,
   "metadata": {},
   "outputs": [],
   "source": [
    "count_dict = count_org_in_doc['organization'].T.to_dict()"
   ]
  },
  {
   "cell_type": "code",
   "execution_count": 48,
   "metadata": {},
   "outputs": [],
   "source": [
    "orgs['orgs_in_doc'] = orgs['uuid'].apply(lambda uuid: count_dict[uuid])"
   ]
  },
  {
   "cell_type": "code",
   "execution_count": 55,
   "metadata": {},
   "outputs": [],
   "source": [
    "orgs.drop('is_company',axis=1,inplace=True)"
   ]
  },
  {
   "cell_type": "code",
   "execution_count": 56,
   "metadata": {},
   "outputs": [],
   "source": [
    "orgs.to_csv('orgs_ibm_wiki_cleaned.csv', index=False)"
   ]
  },
  {
   "cell_type": "code",
   "execution_count": 59,
   "metadata": {},
   "outputs": [],
   "source": [
    "unique_uuids = set(orgs.uuid.unique())"
   ]
  },
  {
   "cell_type": "code",
   "execution_count": 63,
   "metadata": {},
   "outputs": [],
   "source": [
    "docs = pd.read_csv('csvs/docs_for_normalized_orgs.csv')"
   ]
  },
  {
   "cell_type": "code",
   "execution_count": 69,
   "metadata": {},
   "outputs": [],
   "source": [
    "docs = docs[docs['uuid'].isin(unique_uuids)].copy()"
   ]
  },
  {
   "cell_type": "code",
   "execution_count": 72,
   "metadata": {},
   "outputs": [],
   "source": [
    "docs.to_csv('docs_ibm_wiki_cleaned.csv', index=False)"
   ]
  },
  {
   "cell_type": "code",
   "execution_count": 79,
   "metadata": {},
   "outputs": [
    {
     "data": {
      "text/plain": [
       "<matplotlib.axes._subplots.AxesSubplot at 0x7fd17dfd0430>"
      ]
     },
     "execution_count": 79,
     "metadata": {},
     "output_type": "execute_result"
    },
    {
     "data": {
      "image/png": "[encoded data removed]",
      "text/plain": [
       "<Figure size 432x288 with 1 Axes>"
      ]
     },
     "metadata": {
      "needs_background": "light"
     },
     "output_type": "display_data"
    }
   ],
   "source": [
    "orgs[(orgs['orgs_in_doc'] <= 5) & (orgs['confidence']>=0.6)].sentiment_label.hist()"
   ]
  }
 ],
 "metadata": {
  "kernelspec": {
   "display_name": "env",
   "language": "python",
   "name": "env"
  },
  "language_info": {
   "codemirror_mode": {
    "name": "ipython",
    "version": 3
   },
   "file_extension": ".py",
   "mimetype": "text/x-python",
   "name": "python",
   "nbconvert_exporter": "python",
   "pygments_lexer": "ipython3",
   "version": "3.8.6"
  }
 },
 "nbformat": 4,
 "nbformat_minor": 4
}
