{
 "cells": [
  {
   "cell_type": "code",
   "execution_count": 2,
   "metadata": {},
   "outputs": [],
   "source": [
    "import re\n",
    "\n",
    "import pandas as pd"
   ]
  },
  {
   "cell_type": "markdown",
   "metadata": {},
   "source": [
    "### Загрузка файлов"
   ]
  },
  {
   "cell_type": "code",
   "execution_count": 8,
   "metadata": {},
   "outputs": [],
   "source": [
    "docs = pd.read_csv('../datasets/docs_ibm_wiki_cleaned.csv')"
   ]
  },
  {
   "cell_type": "code",
   "execution_count": 9,
   "metadata": {},
   "outputs": [],
   "source": [
    "orgs = pd.read_csv('../datasets/orgs_ibm_wiki_cleaned.csv')"
   ]
  },
  {
   "cell_type": "code",
   "execution_count": 12,
   "metadata": {},
   "outputs": [],
   "source": [
    "docs_orgs = docs.join(orgs.set_index('uuid'),on='uuid',how='left')"
   ]
  },
  {
   "cell_type": "markdown",
   "metadata": {},
   "source": [
    "### Генерация ORGID"
   ]
  },
  {
   "cell_type": "code",
   "execution_count": 39,
   "metadata": {},
   "outputs": [],
   "source": [
    "orgs_ids = dict.fromkeys(docs_orgs['organization'].unique())"
   ]
  },
  {
   "cell_type": "code",
   "execution_count": 41,
   "metadata": {},
   "outputs": [],
   "source": [
    "for i,key in enumerate(orgs_ids):\n",
    "    orgs_ids[key] = f'ORG{(i+1):06d}'"
   ]
  },
  {
   "cell_type": "markdown",
   "metadata": {},
   "source": [
    "### Backup ORGID"
   ]
  },
  {
   "cell_type": "code",
   "execution_count": 32,
   "metadata": {},
   "outputs": [],
   "source": [
    "#import csv\n",
    "\n",
    "#org_list = [{'id':value, 'name':key} for key,value in orgs_ids.items()]\n",
    "\n",
    "#with open('../datasets/orgs_ids.csv','w',encoding='utf8') as id_file:\n",
    "#    writer = csv.DictWriter(id_file,fieldnames=['id','name'])\n",
    "#    writer.writeheader()\n",
    "#    writer.writerows(org_list)"
   ]
  },
  {
   "cell_type": "markdown",
   "metadata": {},
   "source": [
    "### Подготовка к замене\n",
    "\n",
    "Создаем словать вида {uuid : [org names]}, где org_names - организации, встречающиеся в этом документе, упорядоченные по уменьшению длины имени. Таким образом для каждого документа будем быстро получать список организаций, уже упорядоченных по длине имени."
   ]
  },
  {
   "cell_type": "code",
   "execution_count": 34,
   "metadata": {},
   "outputs": [],
   "source": [
    "uuid_orgs = docs_orgs.groupby('uuid')['organization'].apply(list).T.to_dict()"
   ]
  },
  {
   "cell_type": "code",
   "execution_count": 37,
   "metadata": {},
   "outputs": [],
   "source": [
    "uuid_orgs = {uuid: sorted(org, key= lambda x: -len(x)) for uuid, org in uuid_orgs.items()}"
   ]
  },
  {
   "cell_type": "markdown",
   "metadata": {},
   "source": [
    "### Замена имен на ID"
   ]
  },
  {
   "cell_type": "code",
   "execution_count": 256,
   "metadata": {},
   "outputs": [],
   "source": [
    "text_replaced = []\n",
    "\n",
    "\n",
    "def replace_orgs(row, uuid_orgs, orgs_ids, text_replaced):\n",
    "    uuid = row['uuid']\n",
    "    text = row['text']\n",
    "    org_names = uuid_orgs.get(uuid)\n",
    "    \n",
    "    count_of_subs = dict()\n",
    "    \n",
    "    if org_names:\n",
    "        for org_name in org_names:\n",
    "            org_id = orgs_ids[org_name]\n",
    "            pattern = f'(?P<start>\\A|\\W){re.escape(org_name)}(?P<end>\\W|\\Z)'\n",
    "            repl = f'\\g<start>{re.escape(org_id)}\\g<end>'\n",
    "            sub_result = re.subn(pattern, repl, text,flags=re.I)\n",
    "            text = sub_result[0]\n",
    "            count_of_subs[org_name] = sub_result[1]\n",
    "    else:\n",
    "        text = None\n",
    "    result = {'uuid':uuid, 'text': text, 'counts': count_of_subs}\n",
    "    text_replaced.append(result)\n",
    "    \n",
    "docs.apply(replace_orgs, axis=1, aggs=(uuid_orgs, orgs_ids, text_replaced))\n",
    "#None just to clear output\n",
    "None"
   ]
  },
  {
   "cell_type": "markdown",
   "metadata": {},
   "source": [
    "### Проверяем, совпало ли количество замен с количеством упоминаний."
   ]
  },
  {
   "cell_type": "code",
   "execution_count": 257,
   "metadata": {},
   "outputs": [],
   "source": [
    "#Casting to dict just for convenience and speed of access\n",
    "text_replaced_dict = {doc['uuid']: {'text':doc['text'], 'counts': doc['counts']} for doc in text_replaced}"
   ]
  },
  {
   "cell_type": "code",
   "execution_count": 302,
   "metadata": {},
   "outputs": [],
   "source": [
    "def set_new_counts(row,text_replaced_dict):\n",
    "    uuid = row['uuid']\n",
    "    org_name = row['organization']\n",
    "    sub_result = text_replaced_dict.get(uuid)\n",
    "    if sub_result:\n",
    "        count = sub_result['counts'].get(org_name)\n",
    "        if count:\n",
    "            return count\n",
    "    return 0  "
   ]
  },
  {
   "cell_type": "code",
   "execution_count": 243,
   "metadata": {},
   "outputs": [],
   "source": [
    "orgs['new_count'] = orgs.apply(set_new_counts, axis=1, args=(text_replaced_dict,))"
   ]
  },
  {
   "cell_type": "code",
   "execution_count": 258,
   "metadata": {},
   "outputs": [
    {
     "data": {
      "text/plain": [
       "<matplotlib.axes._subplots.AxesSubplot at 0x7f4e85f7dee0>"
      ]
     },
     "execution_count": 258,
     "metadata": {},
     "output_type": "execute_result"
    },
    {
     "data": {
      "image/png": "[encoded data removed]",
      "text/plain": [
       "<Figure size 432x288 with 1 Axes>"
      ]
     },
     "metadata": {
      "needs_background": "light"
     },
     "output_type": "display_data"
    }
   ],
   "source": [
    "(orgs['new_count'] == orgs['org_count']).astype(str).hist()"
   ]
  },
  {
   "cell_type": "markdown",
   "metadata": {},
   "source": [
    "### Количесво не совпадает в части случаев. \n",
    "\n",
    "Связано с тем, что часть записей  в другой форме, а часть упоминаний не разпознал IBM. Из-за сложности с сопоставлением названий и последующим сопоставлением сантиментов далее будем работать только с теми организациями, у которых количество совпало. Сформируем заново список организаций и проделаем для них все шаги выше."
   ]
  },
  {
   "cell_type": "code",
   "execution_count": 275,
   "metadata": {},
   "outputs": [],
   "source": [
    "orgs_to_substitute = orgs[orgs['new_count'] == orgs['org_count']].drop('new_count', axis=1)"
   ]
  },
  {
   "cell_type": "markdown",
   "metadata": {},
   "source": [
    "### Т.к. количество записей с организациями изменилось, пересчитаем количество организаций на документ."
   ]
  },
  {
   "cell_type": "code",
   "execution_count": 276,
   "metadata": {},
   "outputs": [],
   "source": [
    "orgs_per_doc = orgs_to_substitute.groupby('uuid').agg({'organization': 'count'}).organization.T.to_dict()"
   ]
  },
  {
   "cell_type": "code",
   "execution_count": 277,
   "metadata": {},
   "outputs": [],
   "source": [
    "orgs_to_substitute['orgs_in_doc'] = orgs_to_substitute.uuid.apply(lambda uuid: orgs_per_doc[uuid])"
   ]
  },
  {
   "cell_type": "markdown",
   "metadata": {},
   "source": [
    "### Добавляем соответствующие id, чтобы не хранить их в отдельном файле и сохраним организации"
   ]
  },
  {
   "cell_type": "code",
   "execution_count": 280,
   "metadata": {},
   "outputs": [],
   "source": [
    "orgs_to_substitute['org_id'] = orgs_to_substitute.organization.apply(lambda org: orgs_ids[org])"
   ]
  },
  {
   "cell_type": "code",
   "execution_count": 284,
   "metadata": {},
   "outputs": [],
   "source": [
    "orgs_to_substitute.to_csv('orgs_sub_name_id.csv', index=False)"
   ]
  },
  {
   "cell_type": "markdown",
   "metadata": {},
   "source": [
    "### Аналогично отфильтруем и документы"
   ]
  },
  {
   "cell_type": "code",
   "execution_count": 287,
   "metadata": {},
   "outputs": [],
   "source": [
    "doc_subst_uuids = set(orgs_to_substitute.uuid.unique())"
   ]
  },
  {
   "cell_type": "code",
   "execution_count": 311,
   "metadata": {},
   "outputs": [],
   "source": [
    "docs_to_substitute = docs[docs.uuid.isin(doc_subst_uuids)].copy()"
   ]
  },
  {
   "cell_type": "code",
   "execution_count": 292,
   "metadata": {},
   "outputs": [],
   "source": [
    "docs_to_substitute.to_csv('docs_to_sub.csv', index=True)"
   ]
  },
  {
   "cell_type": "markdown",
   "metadata": {},
   "source": [
    "### Повторим шаги по замене имен"
   ]
  },
  {
   "cell_type": "code",
   "execution_count": 295,
   "metadata": {},
   "outputs": [],
   "source": [
    "uuid_orgs_2 = orgs_to_substitute.groupby('uuid')['organization'].apply(list).T.to_dict()\n",
    "uuid_orgs_2 = {uuid: sorted(org, key= lambda x: -len(x)) for uuid, org in uuid_orgs_2.items()}"
   ]
  },
  {
   "cell_type": "code",
   "execution_count": 298,
   "metadata": {},
   "outputs": [],
   "source": [
    "text_replaced_2 = []\n",
    "\n",
    "\n",
    "def replace_orgs(row, uuid_orgs, orgs_ids, text_replaced):\n",
    "    uuid = row['uuid']\n",
    "    text = row['text']\n",
    "    org_names = uuid_orgs.get(uuid)\n",
    "    \n",
    "    count_of_subs = dict()\n",
    "    \n",
    "    if org_names:\n",
    "        for org_name in org_names:\n",
    "            org_id = orgs_ids[org_name]\n",
    "            pattern = f'(?P<start>\\A|\\W){re.escape(org_name)}(?P<end>\\W|\\Z)'\n",
    "            repl = f'\\g<start>{re.escape(org_id)}\\g<end>'\n",
    "            sub_result = re.subn(pattern, repl, text,flags=re.I)\n",
    "            text = sub_result[0]\n",
    "            count_of_subs[org_name] = sub_result[1]\n",
    "    else:\n",
    "        text = None\n",
    "    result = {'uuid':uuid, 'text': text, 'counts': count_of_subs}\n",
    "    text_replaced.append(result)\n",
    "    \n",
    "    \n",
    "docs_to_substitute.apply(replace_orgs, axis=1, args=(uuid_orgs_2, orgs_ids, text_replaced_2))\n",
    "#None just to clear output\n",
    "None"
   ]
  },
  {
   "cell_type": "code",
   "execution_count": 300,
   "metadata": {},
   "outputs": [],
   "source": [
    "#Casting to dict just for convenience and speed of access\n",
    "text_replaced_2_dict = {doc['uuid']: {'text':doc['text'], 'counts': doc['counts']} for doc in text_replaced}"
   ]
  },
  {
   "cell_type": "code",
   "execution_count": 304,
   "metadata": {},
   "outputs": [],
   "source": [
    "orgs_to_substitute['new_count'] = orgs_to_substitute.apply(set_new_counts, axis=1, args=(text_replaced_2_dict,))"
   ]
  },
  {
   "cell_type": "code",
   "execution_count": 312,
   "metadata": {},
   "outputs": [],
   "source": [
    "def get_replaced_text(uuid, text_replaced_dict):\n",
    "    sub_result = text_replaced_dict.get(uuid)\n",
    "    if sub_result:\n",
    "        text = sub_result.get('text')\n",
    "        if text:\n",
    "            return text\n",
    "    return None\n",
    "\n",
    "docs_to_substitute['text_w_ids'] = docs_to_substitute['uuid'].apply(get_replaced_text, args=(text_replaced_2_dict,))"
   ]
  },
  {
   "cell_type": "code",
   "execution_count": 317,
   "metadata": {},
   "outputs": [
    {
     "data": {
      "text/plain": [
       "0"
      ]
     },
     "execution_count": 317,
     "metadata": {},
     "output_type": "execute_result"
    }
   ],
   "source": [
    "docs_to_substitute.text_w_ids.apply(lambda x: x is None).sum()"
   ]
  },
  {
   "cell_type": "code",
   "execution_count": 318,
   "metadata": {},
   "outputs": [],
   "source": [
    "docs_to_substitute.to_csv('docs_sub_name_id.csv', index=False)"
   ]
  }
 ],
 "metadata": {
  "kernelspec": {
   "display_name": "env",
   "language": "python",
   "name": "env"
  },
  "language_info": {
   "codemirror_mode": {
    "name": "ipython",
    "version": 3
   },
   "file_extension": ".py",
   "mimetype": "text/x-python",
   "name": "python",
   "nbconvert_exporter": "python",
   "pygments_lexer": "ipython3",
   "version": "3.8.5"
  }
 },
 "nbformat": 4,
 "nbformat_minor": 4
}
